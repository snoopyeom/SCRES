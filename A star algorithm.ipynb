{
 "cells": [
  {
   "cell_type": "code",
   "metadata": {},
   "execution_count": null,
   "source": [
    "from graph import Graph, Node",
    "from a_star import AStar"
   ]
  },
  {
   "cell_type": "code",
   "metadata": {},
   "execution_count": null,
   "source": [
    "graph = Graph()",
    "# Add vertices",
    "nodes = ['S','B','C','D','E','F','G','H','I','J','K','T','L']",
    "coords = [(1,1),(1,2),(1,4),(2,1),(2,2),(2,3),(2,4),(3,1),(3,4),(4,1),(4,2),(4,3),(4,4)]",
    "for n,c in zip(nodes,coords):",
    "    graph.add_node(Node(n,c))",
    "# Add edges",
    "edges = [",
    "('S','B',4),('S','D',5),('B','E',1),('C','G',1),('D','E',2),('D','H',3),",
    "('E','F',6),('F','G',4),('G','I',3),('H','J',1),('I','L',4),('J','K',6),('K','T',2),('T','L',3)]",
    "for a,b,w in edges:",
    "    graph.add_edge(a,b,w)",
    ""
   ]
  },
  {
   "cell_type": "code",
   "metadata": {},
   "execution_count": null,
   "source": [
    "alg = AStar(graph, 'S', 'T')",
    "path, cost = alg.search()",
    "print(' -> '.join(path))",
    "print('Length of the path:', cost)",
    ""
   ]
  }
 ],
 "metadata": {
  "kernelspec": {
   "display_name": "Python 3",
   "language": "python",
   "name": "python3"
  },
  "language_info": {
   "name": "python",
   "version": "3.8"
  }
 },
 "nbformat": 4,
 "nbformat_minor": 5
}